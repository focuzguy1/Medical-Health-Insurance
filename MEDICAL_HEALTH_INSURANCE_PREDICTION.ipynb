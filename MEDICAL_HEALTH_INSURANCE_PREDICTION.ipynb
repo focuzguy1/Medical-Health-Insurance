{
 "cells": [
  {
   "cell_type": "markdown",
   "id": "39f73a4d",
   "metadata": {},
   "source": [
    "<h1 align=center><font size = 5>MACHINE LEARNING ALGORITHMS PREDICTION</font></h1> "
   ]
  },
  {
   "cell_type": "markdown",
   "id": "7001e6e6",
   "metadata": {},
   "source": [
    "Application of Hybrid algorithm in machine learning algorithm for prediction. We will use medical health Insurance dataset generated from an online source \"Kaggle dataset\""
   ]
  },
  {
   "cell_type": "markdown",
   "id": "07f5c4dd",
   "metadata": {},
   "source": [
    "**The project involves building a machine learning algorithm/model to predict whether a patient will apply for health insurance or not..**"
   ]
  },
  {
   "cell_type": "markdown",
   "id": "3091731e",
   "metadata": {},
   "source": [
    "## Table of Contents\n",
    "\n",
    "<div class=\"alert alert-block alert-info\" style=\"margin-top: 20px\">\n",
    "\n",
    "<font size = 3>\n",
    "      \n",
    "1. Importing the required libraries   \n",
    "2. Reading the data \n",
    "3. Preprocessing and visualization\n",
    "4. Model building\n",
    "5. Model Training\n",
    "6. Model Evaluation\n",
    "7. Algorithm Selection: Logistic Regression, Random Forest, Decision Tree, Support Vector Machine\n",
    "</font>\n",
    "</div>"
   ]
  },
  {
   "cell_type": "markdown",
   "id": "a8b556d6",
   "metadata": {},
   "source": [
    "Import Python modules\n",
    "We need to import some packages that will enable us to explore the data and build machine learning models\n"
   ]
  },
  {
   "cell_type": "markdown",
   "id": "5f0d09bf",
   "metadata": {},
   "source": [
    "# 1. Importing the required libraries"
   ]
  },
  {
   "cell_type": "code",
   "execution_count": 2,
   "id": "021005f2",
   "metadata": {},
   "outputs": [],
   "source": [
    "#Importing the required libraries\n",
    "import numpy as np # for linear algebra/data preprocessing\n",
    "import pandas as pd # for data preprocessing\n",
    "import matplotlib.pyplot as plt #for visualization\n",
    "import seaborn as sns #for visualization"
   ]
  },
  {
   "cell_type": "markdown",
   "id": "b8dcb990",
   "metadata": {},
   "source": [
    "# 2. READ THE DATASET"
   ]
  },
  {
   "cell_type": "code",
   "execution_count": 3,
   "id": "637c67d1",
   "metadata": {},
   "outputs": [
    {
     "data": {
      "text/html": [
       "<div>\n",
       "<style scoped>\n",
       "    .dataframe tbody tr th:only-of-type {\n",
       "        vertical-align: middle;\n",
       "    }\n",
       "\n",
       "    .dataframe tbody tr th {\n",
       "        vertical-align: top;\n",
       "    }\n",
       "\n",
       "    .dataframe thead th {\n",
       "        text-align: right;\n",
       "    }\n",
       "</style>\n",
       "<table border=\"1\" class=\"dataframe\">\n",
       "  <thead>\n",
       "    <tr style=\"text-align: right;\">\n",
       "      <th></th>\n",
       "      <th>User ID</th>\n",
       "      <th>Gender</th>\n",
       "      <th>Age</th>\n",
       "      <th>EstimatedSalary</th>\n",
       "      <th>Purchased</th>\n",
       "    </tr>\n",
       "  </thead>\n",
       "  <tbody>\n",
       "    <tr>\n",
       "      <th>0</th>\n",
       "      <td>15624510</td>\n",
       "      <td>Male</td>\n",
       "      <td>19</td>\n",
       "      <td>19000</td>\n",
       "      <td>not-purchased</td>\n",
       "    </tr>\n",
       "    <tr>\n",
       "      <th>1</th>\n",
       "      <td>15810944</td>\n",
       "      <td>Male</td>\n",
       "      <td>35</td>\n",
       "      <td>20000</td>\n",
       "      <td>not-purchased</td>\n",
       "    </tr>\n",
       "    <tr>\n",
       "      <th>2</th>\n",
       "      <td>15668575</td>\n",
       "      <td>Female</td>\n",
       "      <td>26</td>\n",
       "      <td>43000</td>\n",
       "      <td>not-purchased</td>\n",
       "    </tr>\n",
       "    <tr>\n",
       "      <th>3</th>\n",
       "      <td>15603246</td>\n",
       "      <td>Female</td>\n",
       "      <td>27</td>\n",
       "      <td>57000</td>\n",
       "      <td>not-purchased</td>\n",
       "    </tr>\n",
       "    <tr>\n",
       "      <th>4</th>\n",
       "      <td>15804002</td>\n",
       "      <td>Male</td>\n",
       "      <td>19</td>\n",
       "      <td>76000</td>\n",
       "      <td>not-purchased</td>\n",
       "    </tr>\n",
       "    <tr>\n",
       "      <th>5</th>\n",
       "      <td>15728773</td>\n",
       "      <td>Male</td>\n",
       "      <td>27</td>\n",
       "      <td>58000</td>\n",
       "      <td>not-purchased</td>\n",
       "    </tr>\n",
       "    <tr>\n",
       "      <th>6</th>\n",
       "      <td>15598044</td>\n",
       "      <td>Female</td>\n",
       "      <td>27</td>\n",
       "      <td>84000</td>\n",
       "      <td>not-purchased</td>\n",
       "    </tr>\n",
       "    <tr>\n",
       "      <th>7</th>\n",
       "      <td>15694829</td>\n",
       "      <td>Female</td>\n",
       "      <td>32</td>\n",
       "      <td>150000</td>\n",
       "      <td>purchased</td>\n",
       "    </tr>\n",
       "    <tr>\n",
       "      <th>8</th>\n",
       "      <td>15600575</td>\n",
       "      <td>Male</td>\n",
       "      <td>25</td>\n",
       "      <td>33000</td>\n",
       "      <td>not-purchased</td>\n",
       "    </tr>\n",
       "    <tr>\n",
       "      <th>9</th>\n",
       "      <td>15727311</td>\n",
       "      <td>Female</td>\n",
       "      <td>35</td>\n",
       "      <td>65000</td>\n",
       "      <td>not-purchased</td>\n",
       "    </tr>\n",
       "    <tr>\n",
       "      <th>10</th>\n",
       "      <td>15570769</td>\n",
       "      <td>Female</td>\n",
       "      <td>26</td>\n",
       "      <td>80000</td>\n",
       "      <td>not-purchased</td>\n",
       "    </tr>\n",
       "    <tr>\n",
       "      <th>11</th>\n",
       "      <td>15606274</td>\n",
       "      <td>Female</td>\n",
       "      <td>26</td>\n",
       "      <td>52000</td>\n",
       "      <td>not-purchased</td>\n",
       "    </tr>\n",
       "    <tr>\n",
       "      <th>12</th>\n",
       "      <td>15746139</td>\n",
       "      <td>Male</td>\n",
       "      <td>20</td>\n",
       "      <td>86000</td>\n",
       "      <td>not-purchased</td>\n",
       "    </tr>\n",
       "    <tr>\n",
       "      <th>13</th>\n",
       "      <td>15704987</td>\n",
       "      <td>Male</td>\n",
       "      <td>32</td>\n",
       "      <td>18000</td>\n",
       "      <td>not-purchased</td>\n",
       "    </tr>\n",
       "    <tr>\n",
       "      <th>14</th>\n",
       "      <td>15628972</td>\n",
       "      <td>Male</td>\n",
       "      <td>18</td>\n",
       "      <td>82000</td>\n",
       "      <td>not-purchased</td>\n",
       "    </tr>\n",
       "    <tr>\n",
       "      <th>15</th>\n",
       "      <td>15697686</td>\n",
       "      <td>Male</td>\n",
       "      <td>29</td>\n",
       "      <td>80000</td>\n",
       "      <td>not-purchased</td>\n",
       "    </tr>\n",
       "    <tr>\n",
       "      <th>16</th>\n",
       "      <td>15733883</td>\n",
       "      <td>Male</td>\n",
       "      <td>47</td>\n",
       "      <td>25000</td>\n",
       "      <td>purchased</td>\n",
       "    </tr>\n",
       "    <tr>\n",
       "      <th>17</th>\n",
       "      <td>15617482</td>\n",
       "      <td>Male</td>\n",
       "      <td>45</td>\n",
       "      <td>26000</td>\n",
       "      <td>purchased</td>\n",
       "    </tr>\n",
       "    <tr>\n",
       "      <th>18</th>\n",
       "      <td>15704583</td>\n",
       "      <td>Male</td>\n",
       "      <td>46</td>\n",
       "      <td>28000</td>\n",
       "      <td>purchased</td>\n",
       "    </tr>\n",
       "    <tr>\n",
       "      <th>19</th>\n",
       "      <td>15621083</td>\n",
       "      <td>Female</td>\n",
       "      <td>48</td>\n",
       "      <td>29000</td>\n",
       "      <td>purchased</td>\n",
       "    </tr>\n",
       "  </tbody>\n",
       "</table>\n",
       "</div>"
      ],
      "text/plain": [
       "     User ID  Gender  Age  EstimatedSalary      Purchased\n",
       "0   15624510    Male   19            19000  not-purchased\n",
       "1   15810944    Male   35            20000  not-purchased\n",
       "2   15668575  Female   26            43000  not-purchased\n",
       "3   15603246  Female   27            57000  not-purchased\n",
       "4   15804002    Male   19            76000  not-purchased\n",
       "5   15728773    Male   27            58000  not-purchased\n",
       "6   15598044  Female   27            84000  not-purchased\n",
       "7   15694829  Female   32           150000      purchased\n",
       "8   15600575    Male   25            33000  not-purchased\n",
       "9   15727311  Female   35            65000  not-purchased\n",
       "10  15570769  Female   26            80000  not-purchased\n",
       "11  15606274  Female   26            52000  not-purchased\n",
       "12  15746139    Male   20            86000  not-purchased\n",
       "13  15704987    Male   32            18000  not-purchased\n",
       "14  15628972    Male   18            82000  not-purchased\n",
       "15  15697686    Male   29            80000  not-purchased\n",
       "16  15733883    Male   47            25000      purchased\n",
       "17  15617482    Male   45            26000      purchased\n",
       "18  15704583    Male   46            28000      purchased\n",
       "19  15621083  Female   48            29000      purchased"
      ]
     },
     "execution_count": 3,
     "metadata": {},
     "output_type": "execute_result"
    }
   ],
   "source": [
    "#Reading the data as a .csv file and checking the first 20 observations\n",
    "health_insurance = pd.read_csv(\"medical_health_insurance_dataset.csv\")\n",
    "\n",
    "health_insurance.head(20)"
   ]
  },
  {
   "cell_type": "markdown",
   "id": "b78603a8",
   "metadata": {},
   "source": [
    "# 3. Preprocessing and visualization"
   ]
  },
  {
   "cell_type": "markdown",
   "id": "80750140",
   "metadata": {},
   "source": [
    "DROPPING A COLUMN/FEATURE THAT IS NOT USEFUL FOR PREDICTION/MODELING"
   ]
  },
  {
   "cell_type": "markdown",
   "id": "382eebc8",
   "metadata": {},
   "source": [
    "The User ID is a random number generated for every customer that comes to the company for medical insurance. Therefore, it is not useful in prediciting whether the person will buy medical insurance or not. It will hence be removed from the data, as it is not useful for modeling."
   ]
  },
  {
   "cell_type": "code",
   "execution_count": 4,
   "id": "b99febf9",
   "metadata": {},
   "outputs": [],
   "source": [
    "#Dropping User ID column\n",
    "health_insurance.drop([\"User ID\"], axis=\"columns\", inplace = True)"
   ]
  },
  {
   "cell_type": "markdown",
   "id": "caad484f",
   "metadata": {},
   "source": [
    "Next, we **transform or Encode** the Target column 'Purchased' to **discrete values 1 representing purchased and 0 representing \"not-purchased\"**.This will transform the output variable (label) to be numeric values, which is important for a machine learning model.\n",
    "\n",
    "\n",
    "This above line of code is performing an operation on a DataFrame called **health_insurance**.\n",
    "\n",
    "- **drop():** This is a method used to remove specific rows or columns from a DataFrame. It's typically used to eliminate unnecessary or redundant data.\n",
    "\n",
    "- **[\"User ID\"]**: This specifies the label of the column to be dropped. In this case, it's \"User ID\", indicating that the column named \"User ID\" will be removed.\n",
    "\n",
    "- **axis=\"columns\"**: This parameter specifies whether to drop rows or columns. Here, axis=\"columns\" indicates that the operation is applied to columns. Alternatively, you could use axis=1, which is equivalent.\n",
    "\n",
    "- **inplace=True**: This parameter determines whether the operation will be applied directly to the DataFrame or if a new DataFrame will be returned. When inplace=True, the operation is performed on the original DataFrame, and it's modified in place. If **inplace=False** or not specified, the operation returns a new DataFrame without modifying the original one.\n",
    "\n",
    "So, altogether, the line of code is dropping the **\"User ID\"** column from the health_insurance DataFrame, and the change is being applied directly to the **original DataFrame**. After executing this line, the \"User ID\" column will no longer be present in the health_insurance DataFrame."
   ]
  },
  {
   "cell_type": "markdown",
   "id": "57a3d3b3",
   "metadata": {},
   "source": [
    "**Mapping the values 1 and to transfrom the target column**"
   ]
  },
  {
   "cell_type": "code",
   "execution_count": 5,
   "id": "40924e6c",
   "metadata": {},
   "outputs": [],
   "source": [
    "#Mapping the values 1 and to transfrom the target column\n",
    "health_insurance[\"Purchased\"] = health_insurance[\"Purchased\"].apply(lambda x: 1 if x == \"purchased\" else 0)"
   ]
  },
  {
   "cell_type": "markdown",
   "id": "8c71ba1e",
   "metadata": {},
   "source": [
    "The provided code is performing a transformation on the \"Purchased\" column in a DataFrame called health_insurance. \n",
    "\n",
    "**Let's break down the code step by step:**\n",
    "\n",
    "**health_insurance[\"Purchased\"]:** This selects the \"Purchased\" column from the DataFrame health_insurance.\n",
    "\n",
    "**.apply(lambda x: 1 if x == \"purchased\" else 0):** This applies a function to each element of the **\"Purchased\"** column. \n",
    "\n",
    "\n",
    "**Here's what's happening inside the lambda function:**\n",
    "\n",
    "- **lambda x:**: This defines an anonymous function that takes one argument, denoted as x.\n",
    "- **1 if x == \"purchased\" else 0:** This is a ternary expression that checks if the value of x is equal to \"purchased\". If it is, the function **returns 1**; otherwise, it **returns 0**."
   ]
  },
  {
   "cell_type": "code",
   "execution_count": 18,
   "id": "82a1376b",
   "metadata": {},
   "outputs": [
    {
     "data": {
      "text/html": [
       "<div>\n",
       "<style scoped>\n",
       "    .dataframe tbody tr th:only-of-type {\n",
       "        vertical-align: middle;\n",
       "    }\n",
       "\n",
       "    .dataframe tbody tr th {\n",
       "        vertical-align: top;\n",
       "    }\n",
       "\n",
       "    .dataframe thead th {\n",
       "        text-align: right;\n",
       "    }\n",
       "</style>\n",
       "<table border=\"1\" class=\"dataframe\">\n",
       "  <thead>\n",
       "    <tr style=\"text-align: right;\">\n",
       "      <th></th>\n",
       "      <th>Gender</th>\n",
       "      <th>Age</th>\n",
       "      <th>EstimatedSalary</th>\n",
       "      <th>Purchased</th>\n",
       "    </tr>\n",
       "  </thead>\n",
       "  <tbody>\n",
       "    <tr>\n",
       "      <th>0</th>\n",
       "      <td>Male</td>\n",
       "      <td>19</td>\n",
       "      <td>19000</td>\n",
       "      <td>0</td>\n",
       "    </tr>\n",
       "    <tr>\n",
       "      <th>1</th>\n",
       "      <td>Male</td>\n",
       "      <td>35</td>\n",
       "      <td>20000</td>\n",
       "      <td>0</td>\n",
       "    </tr>\n",
       "    <tr>\n",
       "      <th>2</th>\n",
       "      <td>Female</td>\n",
       "      <td>26</td>\n",
       "      <td>43000</td>\n",
       "      <td>0</td>\n",
       "    </tr>\n",
       "    <tr>\n",
       "      <th>3</th>\n",
       "      <td>Female</td>\n",
       "      <td>27</td>\n",
       "      <td>57000</td>\n",
       "      <td>0</td>\n",
       "    </tr>\n",
       "    <tr>\n",
       "      <th>4</th>\n",
       "      <td>Male</td>\n",
       "      <td>19</td>\n",
       "      <td>76000</td>\n",
       "      <td>0</td>\n",
       "    </tr>\n",
       "    <tr>\n",
       "      <th>5</th>\n",
       "      <td>Male</td>\n",
       "      <td>27</td>\n",
       "      <td>58000</td>\n",
       "      <td>0</td>\n",
       "    </tr>\n",
       "    <tr>\n",
       "      <th>6</th>\n",
       "      <td>Female</td>\n",
       "      <td>27</td>\n",
       "      <td>84000</td>\n",
       "      <td>0</td>\n",
       "    </tr>\n",
       "    <tr>\n",
       "      <th>7</th>\n",
       "      <td>Female</td>\n",
       "      <td>32</td>\n",
       "      <td>150000</td>\n",
       "      <td>1</td>\n",
       "    </tr>\n",
       "    <tr>\n",
       "      <th>8</th>\n",
       "      <td>Male</td>\n",
       "      <td>25</td>\n",
       "      <td>33000</td>\n",
       "      <td>0</td>\n",
       "    </tr>\n",
       "    <tr>\n",
       "      <th>9</th>\n",
       "      <td>Female</td>\n",
       "      <td>35</td>\n",
       "      <td>65000</td>\n",
       "      <td>0</td>\n",
       "    </tr>\n",
       "  </tbody>\n",
       "</table>\n",
       "</div>"
      ],
      "text/plain": [
       "   Gender  Age  EstimatedSalary  Purchased\n",
       "0    Male   19            19000          0\n",
       "1    Male   35            20000          0\n",
       "2  Female   26            43000          0\n",
       "3  Female   27            57000          0\n",
       "4    Male   19            76000          0\n",
       "5    Male   27            58000          0\n",
       "6  Female   27            84000          0\n",
       "7  Female   32           150000          1\n",
       "8    Male   25            33000          0\n",
       "9  Female   35            65000          0"
      ]
     },
     "execution_count": 18,
     "metadata": {},
     "output_type": "execute_result"
    }
   ],
   "source": [
    "#Let's read the data ones again\n",
    "health_insurance.head(10)"
   ]
  },
  {
   "cell_type": "markdown",
   "id": "57942164",
   "metadata": {},
   "source": [
    "Next, we transform or Encode the Target column 'Purchased' to discrete values 1 representing purchased and 0 representing \"not-purchased\".This will transform the output variable (label) to be numeric values, which is important for a machine learning model."
   ]
  },
  {
   "cell_type": "code",
   "execution_count": 7,
   "id": "b0e0c248",
   "metadata": {},
   "outputs": [
    {
     "data": {
      "image/png": "[encoded data removed]",
      "text/plain": [
       "<Figure size 640x480 with 1 Axes>"
      ]
     },
     "metadata": {},
     "output_type": "display_data"
    }
   ],
   "source": [
    "sns.countplot(x = \"Purchased\", data = health_insurance);"
   ]
  },
  {
   "cell_type": "markdown",
   "id": "b45ae83a",
   "metadata": {},
   "source": [
    "As you can see, the majority of those that visit the medical health insurance company did not want to buy the insurance. This is an example of class imbalance. That is, there is no equal proportion of those that will buy or not."
   ]
  },
  {
   "cell_type": "code",
   "execution_count": 8,
   "id": "0b378145",
   "metadata": {},
   "outputs": [
    {
     "data": {
      "image/png": "[encoded data removed]",
      "text/plain": [
       "<Figure size 640x480 with 1 Axes>"
      ]
     },
     "metadata": {},
     "output_type": "display_data"
    }
   ],
   "source": [
    "sns.countplot(x = \"Gender\", data = health_insurance);"
   ]
  },
  {
   "cell_type": "markdown",
   "id": "5d16d46f",
   "metadata": {},
   "source": [
    "The proportion of males are almost the same as females."
   ]
  },
  {
   "cell_type": "code",
   "execution_count": 9,
   "id": "94443ec6",
   "metadata": {},
   "outputs": [
    {
     "data": {
      "image/png": "[encoded data removed]",
      "text/plain": [
       "<Figure size 640x480 with 1 Axes>"
      ]
     },
     "metadata": {},
     "output_type": "display_data"
    }
   ],
   "source": [
    "sns.countplot(x = \"Gender\", hue = \"Purchased\", data = health_insurance);"
   ]
  },
  {
   "cell_type": "markdown",
   "id": "b4743360",
   "metadata": {},
   "source": [
    "It appears that females wanted to purchase the insurance when compared with males."
   ]
  },
  {
   "cell_type": "code",
   "execution_count": 10,
   "id": "a7a4b9a4",
   "metadata": {},
   "outputs": [
    {
     "data": {
      "image/png": "[encoded data removed]",
      "text/plain": [
       "<Figure size 640x480 with 1 Axes>"
      ]
     },
     "metadata": {},
     "output_type": "display_data"
    }
   ],
   "source": [
    "sns.boxplot(x = \"Purchased\", y = \"Age\", data = health_insurance);"
   ]
  },
  {
   "cell_type": "markdown",
   "id": "ee2a1e9c",
   "metadata": {},
   "source": [
    "From the look of things, older people purchased insurance compared with younger people."
   ]
  },
  {
   "cell_type": "code",
   "execution_count": 11,
   "id": "45332292",
   "metadata": {},
   "outputs": [
    {
     "data": {
      "image/png": "[encoded data removed]",
      "text/plain": [
       "<Figure size 640x480 with 1 Axes>"
      ]
     },
     "metadata": {},
     "output_type": "display_data"
    }
   ],
   "source": [
    "sns.boxplot(x = \"Purchased\", y = \"EstimatedSalary\", data = health_insurance);"
   ]
  },
  {
   "cell_type": "markdown",
   "id": "66b943cd",
   "metadata": {},
   "source": [
    "People that earned higher salary purchased the insurance while those that earned low did not purchase the insurance. Of course, it is expected you purchase a medical insurance when you have money."
   ]
  },
  {
   "cell_type": "markdown",
   "id": "2f5f7a51",
   "metadata": {},
   "source": [
    "# 4. Model building"
   ]
  },
  {
   "cell_type": "markdown",
   "id": "1c2c6ec2",
   "metadata": {},
   "source": [
    "Importing machine learning models"
   ]
  },
  {
   "cell_type": "code",
   "execution_count": 12,
   "id": "dcd5c562",
   "metadata": {},
   "outputs": [],
   "source": [
    "from sklearn import metrics #Module For evaluation metrics\n",
    "from sklearn.model_selection import train_test_split # Module for splitting the data"
   ]
  },
  {
   "cell_type": "markdown",
   "id": "f90a0e52",
   "metadata": {},
   "source": [
    "Preparing the Data for modeling(Separating features and the label from the data)\n",
    "\n",
    "**Now is the time to build machine learning models for the task of predicting whether the customers will buy medical insurance or not.** \n",
    "\n",
    "Therefore, we shall separate the set of features (X) from the label (Y).\n",
    "\n",
    "- **X: Represents the features or input variables**. Each row in the X matrix corresponds to a single data point or observation, and each column represents a different feature or attribute of that data point.\n",
    "\n",
    "- **y: Represents the target variable or label**. For supervised learning tasks, y contains the corresponding labels or output values associated with each data point in X. It is usually a one-dimensional array or vector.\n"
   ]
  },
  {
   "cell_type": "code",
   "execution_count": 13,
   "id": "8fe2ad6a",
   "metadata": {},
   "outputs": [],
   "source": [
    "#split data into features and target\n",
    "\n",
    "X = health_insurance.drop([\"Purchased\"], axis= \"columns\") #dropping the label variable (Purchased) from the data\n",
    "\n",
    "y= health_insurance[\"Purchased\"]"
   ]
  },
  {
   "cell_type": "markdown",
   "id": "42c4cc6e",
   "metadata": {},
   "source": [
    "- **X: Contains the features (independent variables)** of the health_insurance dataset. \n",
    "**These are the variables used to predict whether a customer purchased insurance or not.**\n",
    "        \n",
    "        \n",
    "- **y: Contains the label (dependent variable)** of the health_insurance dataset, which is the \"Purchased\" column.\n",
    "\n",
    "    **This y column contains the information about whether or not a customer purchased insurance.**"
   ]
  },
  {
   "cell_type": "code",
   "execution_count": 31,
   "id": "8566eaaf",
   "metadata": {},
   "outputs": [
    {
     "data": {
      "text/html": [
       "<div>\n",
       "<style scoped>\n",
       "    .dataframe tbody tr th:only-of-type {\n",
       "        vertical-align: middle;\n",
       "    }\n",
       "\n",
       "    .dataframe tbody tr th {\n",
       "        vertical-align: top;\n",
       "    }\n",
       "\n",
       "    .dataframe thead th {\n",
       "        text-align: right;\n",
       "    }\n",
       "</style>\n",
       "<table border=\"1\" class=\"dataframe\">\n",
       "  <thead>\n",
       "    <tr style=\"text-align: right;\">\n",
       "      <th></th>\n",
       "      <th>Age</th>\n",
       "      <th>EstimatedSalary</th>\n",
       "      <th>Gender_Female</th>\n",
       "      <th>Gender_Male</th>\n",
       "    </tr>\n",
       "  </thead>\n",
       "  <tbody>\n",
       "    <tr>\n",
       "      <th>0</th>\n",
       "      <td>19</td>\n",
       "      <td>19000</td>\n",
       "      <td>0</td>\n",
       "      <td>1</td>\n",
       "    </tr>\n",
       "    <tr>\n",
       "      <th>1</th>\n",
       "      <td>35</td>\n",
       "      <td>20000</td>\n",
       "      <td>0</td>\n",
       "      <td>1</td>\n",
       "    </tr>\n",
       "    <tr>\n",
       "      <th>2</th>\n",
       "      <td>26</td>\n",
       "      <td>43000</td>\n",
       "      <td>1</td>\n",
       "      <td>0</td>\n",
       "    </tr>\n",
       "    <tr>\n",
       "      <th>3</th>\n",
       "      <td>27</td>\n",
       "      <td>57000</td>\n",
       "      <td>1</td>\n",
       "      <td>0</td>\n",
       "    </tr>\n",
       "    <tr>\n",
       "      <th>4</th>\n",
       "      <td>19</td>\n",
       "      <td>76000</td>\n",
       "      <td>0</td>\n",
       "      <td>1</td>\n",
       "    </tr>\n",
       "  </tbody>\n",
       "</table>\n",
       "</div>"
      ],
      "text/plain": [
       "   Age  EstimatedSalary  Gender_Female  Gender_Male\n",
       "0   19            19000              0            1\n",
       "1   35            20000              0            1\n",
       "2   26            43000              1            0\n",
       "3   27            57000              1            0\n",
       "4   19            76000              0            1"
      ]
     },
     "execution_count": 31,
     "metadata": {},
     "output_type": "execute_result"
    }
   ],
   "source": [
    "X.head()"
   ]
  },
  {
   "cell_type": "markdown",
   "id": "2a438dbd",
   "metadata": {},
   "source": [
    "As discussed in Previously discussed, we need to create a one-hot encoding for all the **categorical features** in the data because some algorithms cannot work with categorical data directly. They require all input variables and output variables to be **numeric**. \n",
    "\n",
    "In this case, we will create a one-hot encoding for the gender feature by using pd.get_dummies(). As shown below:"
   ]
  },
  {
   "cell_type": "code",
   "execution_count": 22,
   "id": "a2634921",
   "metadata": {},
   "outputs": [],
   "source": [
    "pd.get_dummies(health_insurance[\"Gender\"])"
   ]
  },
  {
   "cell_type": "markdown",
   "id": "24aa53e5",
   "metadata": {},
   "source": [
    "In fact, pd.get_dummies() is very powerful to actually locate the categorical features and create a one-hot encoding for them. For example:"
   ]
  },
  {
   "cell_type": "code",
   "execution_count": 30,
   "id": "262e6cdf",
   "metadata": {},
   "outputs": [],
   "source": [
    "pd.get_dummies(X)"
   ]
  },
  {
   "cell_type": "markdown",
   "id": "76023760",
   "metadata": {},
   "source": [
    "We now save this result of one-hot encoding into X."
   ]
  },
  {
   "cell_type": "code",
   "execution_count": 20,
   "id": "5ab10d3e",
   "metadata": {},
   "outputs": [],
   "source": [
    "X = pd.get_dummies(X)"
   ]
  },
  {
   "cell_type": "code",
   "execution_count": 21,
   "id": "f3c9a33f",
   "metadata": {},
   "outputs": [
    {
     "data": {
      "text/html": [
       "<div>\n",
       "<style scoped>\n",
       "    .dataframe tbody tr th:only-of-type {\n",
       "        vertical-align: middle;\n",
       "    }\n",
       "\n",
       "    .dataframe tbody tr th {\n",
       "        vertical-align: top;\n",
       "    }\n",
       "\n",
       "    .dataframe thead th {\n",
       "        text-align: right;\n",
       "    }\n",
       "</style>\n",
       "<table border=\"1\" class=\"dataframe\">\n",
       "  <thead>\n",
       "    <tr style=\"text-align: right;\">\n",
       "      <th></th>\n",
       "      <th>Age</th>\n",
       "      <th>EstimatedSalary</th>\n",
       "      <th>Gender_Female</th>\n",
       "      <th>Gender_Male</th>\n",
       "    </tr>\n",
       "  </thead>\n",
       "  <tbody>\n",
       "    <tr>\n",
       "      <th>0</th>\n",
       "      <td>19</td>\n",
       "      <td>19000</td>\n",
       "      <td>0</td>\n",
       "      <td>1</td>\n",
       "    </tr>\n",
       "    <tr>\n",
       "      <th>1</th>\n",
       "      <td>35</td>\n",
       "      <td>20000</td>\n",
       "      <td>0</td>\n",
       "      <td>1</td>\n",
       "    </tr>\n",
       "    <tr>\n",
       "      <th>2</th>\n",
       "      <td>26</td>\n",
       "      <td>43000</td>\n",
       "      <td>1</td>\n",
       "      <td>0</td>\n",
       "    </tr>\n",
       "    <tr>\n",
       "      <th>3</th>\n",
       "      <td>27</td>\n",
       "      <td>57000</td>\n",
       "      <td>1</td>\n",
       "      <td>0</td>\n",
       "    </tr>\n",
       "    <tr>\n",
       "      <th>4</th>\n",
       "      <td>19</td>\n",
       "      <td>76000</td>\n",
       "      <td>0</td>\n",
       "      <td>1</td>\n",
       "    </tr>\n",
       "  </tbody>\n",
       "</table>\n",
       "</div>"
      ],
      "text/plain": [
       "   Age  EstimatedSalary  Gender_Female  Gender_Male\n",
       "0   19            19000              0            1\n",
       "1   35            20000              0            1\n",
       "2   26            43000              1            0\n",
       "3   27            57000              1            0\n",
       "4   19            76000              0            1"
      ]
     },
     "execution_count": 21,
     "metadata": {},
     "output_type": "execute_result"
    }
   ],
   "source": [
    "X.head()"
   ]
  },
  {
   "cell_type": "markdown",
   "id": "e9f424cc",
   "metadata": {},
   "source": [
    "Split the data into training and test set"
   ]
  },
  {
   "cell_type": "markdown",
   "id": "1453a51d",
   "metadata": {},
   "source": [
    "We will split our dataset (Features (X) and Label (Y)) into training and test data by using **train_test_split()** function from the **sklearn**. The training set will be 80% while the test set will be 20%. The random_state that is set to 1234 is for all of us to have the same set of data.\n"
   ]
  },
  {
   "cell_type": "code",
   "execution_count": 23,
   "id": "bb4410ba",
   "metadata": {},
   "outputs": [],
   "source": [
    "X_train, X_test, y_train, y_test = train_test_split(X, y, test_size = 0.2, random_state= 1234)"
   ]
  },
  {
   "cell_type": "markdown",
   "id": "35429dca",
   "metadata": {},
   "source": [
    "Now we have the pair of training data(X_train, y_train) and test data (X_test, y_test)"
   ]
  },
  {
   "cell_type": "markdown",
   "id": "48134c09",
   "metadata": {},
   "source": [
    "- By setting **random_state** to a fixed value, such as 1234, you ensure that every time you run **the train_test_split** function with the same dataset and the same value of random_state, you'll get the same split of data into training and testing sets. This is crucial for reproducibility in machine learning experiments.\n",
    "\n",
    "- The specific value you choose for random_state doesn't affect the functionality; what's important is that you use the same value consistently to reproduce the same results across different runs."
   ]
  },
  {
   "cell_type": "markdown",
   "id": "2e5d4149",
   "metadata": {},
   "source": [
    "# 5. Model training"
   ]
  },
  {
   "cell_type": "markdown",
   "id": "fcdd1577",
   "metadata": {},
   "source": [
    "Model training\n",
    "We will use the **training data to build the model** and then use **test data to make prediction and evaluation respectively**.\n",
    "\n",
    "1. Logistic regression:\n",
    "Let's train a Logistic regression model with our training data. We need to import the Logistic regression from the sklearn model"
   ]
  },
  {
   "cell_type": "code",
   "execution_count": 24,
   "id": "df081526",
   "metadata": {},
   "outputs": [],
   "source": [
    "#Fitting Logistics Regression to the Training set\n",
    "from sklearn.linear_model import LogisticRegression"
   ]
  },
  {
   "cell_type": "markdown",
   "id": "551dbf22",
   "metadata": {},
   "source": [
    "Now, let's create an object of class LogisticRegression() to train the model on"
   ]
  },
  {
   "cell_type": "code",
   "execution_count": 25,
   "id": "4910ded7",
   "metadata": {},
   "outputs": [
    {
     "data": {
      "text/html": [
       "<style>#sk-container-id-1 {color: black;background-color: white;}#sk-container-id-1 pre{padding: 0;}#sk-container-id-1 div.sk-toggleable {background-color: white;}#sk-container-id-1 label.sk-toggleable__label {cursor: pointer;display: block;width: 100%;margin-bottom: 0;padding: 0.3em;box-sizing: border-box;text-align: center;}#sk-container-id-1 label.sk-toggleable__label-arrow:before {content: \"▸\";float: left;margin-right: 0.25em;color: #696969;}#sk-container-id-1 label.sk-toggleable__label-arrow:hover:before {color: black;}#sk-container-id-1 div.sk-estimator:hover label.sk-toggleable__label-arrow:before {color: black;}#sk-container-id-1 div.sk-toggleable__content {max-height: 0;max-width: 0;overflow: hidden;text-align: left;background-color: #f0f8ff;}#sk-container-id-1 div.sk-toggleable__content pre {margin: 0.2em;color: black;border-radius: 0.25em;background-color: #f0f8ff;}#sk-container-id-1 input.sk-toggleable__control:checked~div.sk-toggleable__content {max-height: 200px;max-width: 100%;overflow: auto;}#sk-container-id-1 input.sk-toggleable__control:checked~label.sk-toggleable__label-arrow:before {content: \"▾\";}#sk-container-id-1 div.sk-estimator input.sk-toggleable__control:checked~label.sk-toggleable__label {background-color: #d4ebff;}#sk-container-id-1 div.sk-label input.sk-toggleable__control:checked~label.sk-toggleable__label {background-color: #d4ebff;}#sk-container-id-1 input.sk-hidden--visually {border: 0;clip: rect(1px 1px 1px 1px);clip: rect(1px, 1px, 1px, 1px);height: 1px;margin: -1px;overflow: hidden;padding: 0;position: absolute;width: 1px;}#sk-container-id-1 div.sk-estimator {font-family: monospace;background-color: #f0f8ff;border: 1px dotted black;border-radius: 0.25em;box-sizing: border-box;margin-bottom: 0.5em;}#sk-container-id-1 div.sk-estimator:hover {background-color: #d4ebff;}#sk-container-id-1 div.sk-parallel-item::after {content: \"\";width: 100%;border-bottom: 1px solid gray;flex-grow: 1;}#sk-container-id-1 div.sk-label:hover label.sk-toggleable__label {background-color: #d4ebff;}#sk-container-id-1 div.sk-serial::before {content: \"\";position: absolute;border-left: 1px solid gray;box-sizing: border-box;top: 0;bottom: 0;left: 50%;z-index: 0;}#sk-container-id-1 div.sk-serial {display: flex;flex-direction: column;align-items: center;background-color: white;padding-right: 0.2em;padding-left: 0.2em;position: relative;}#sk-container-id-1 div.sk-item {position: relative;z-index: 1;}#sk-container-id-1 div.sk-parallel {display: flex;align-items: stretch;justify-content: center;background-color: white;position: relative;}#sk-container-id-1 div.sk-item::before, #sk-container-id-1 div.sk-parallel-item::before {content: \"\";position: absolute;border-left: 1px solid gray;box-sizing: border-box;top: 0;bottom: 0;left: 50%;z-index: -1;}#sk-container-id-1 div.sk-parallel-item {display: flex;flex-direction: column;z-index: 1;position: relative;background-color: white;}#sk-container-id-1 div.sk-parallel-item:first-child::after {align-self: flex-end;width: 50%;}#sk-container-id-1 div.sk-parallel-item:last-child::after {align-self: flex-start;width: 50%;}#sk-container-id-1 div.sk-parallel-item:only-child::after {width: 0;}#sk-container-id-1 div.sk-dashed-wrapped {border: 1px dashed gray;margin: 0 0.4em 0.5em 0.4em;box-sizing: border-box;padding-bottom: 0.4em;background-color: white;}#sk-container-id-1 div.sk-label label {font-family: monospace;font-weight: bold;display: inline-block;line-height: 1.2em;}#sk-container-id-1 div.sk-label-container {text-align: center;}#sk-container-id-1 div.sk-container {/* jupyter's `normalize.less` sets `[hidden] { display: none; }` but bootstrap.min.css set `[hidden] { display: none !important; }` so we also need the `!important` here to be able to override the default hidden behavior on the sphinx rendered scikit-learn.org. See: https://github.com/scikit-learn/scikit-learn/issues/21755 */display: inline-block !important;position: relative;}#sk-container-id-1 div.sk-text-repr-fallback {display: none;}</style><div id=\"sk-container-id-1\" class=\"sk-top-container\"><div class=\"sk-text-repr-fallback\"><pre>LogisticRegression()</pre><b>In a Jupyter environment, please rerun this cell to show the HTML representation or trust the notebook. <br />On GitHub, the HTML representation is unable to render, please try loading this page with nbviewer.org.</b></div><div class=\"sk-container\" hidden><div class=\"sk-item\"><div class=\"sk-estimator sk-toggleable\"><input class=\"sk-toggleable__control sk-hidden--visually\" id=\"sk-estimator-id-1\" type=\"checkbox\" checked><label for=\"sk-estimator-id-1\" class=\"sk-toggleable__label sk-toggleable__label-arrow\">LogisticRegression</label><div class=\"sk-toggleable__content\"><pre>LogisticRegression()</pre></div></div></div></div></div>"
      ],
      "text/plain": [
       "LogisticRegression()"
      ]
     },
     "execution_count": 25,
     "metadata": {},
     "output_type": "execute_result"
    }
   ],
   "source": [
    "#Instance for the logistic regression model\n",
    "logisticmodel = LogisticRegression()\n",
    "\n",
    "logisticmodel.fit(X_train, y_train) #Fitting the train set\n",
    "\n",
    "LogisticRegression()"
   ]
  },
  {
   "cell_type": "markdown",
   "id": "f662fdf9",
   "metadata": {},
   "source": [
    "logisticmodel.fit trained the Logistic regression model. The model is now ready to make prediction for the unknown label by using only the features from the **test data (X_test)**."
   ]
  },
  {
   "cell_type": "code",
   "execution_count": 26,
   "id": "3aec8714",
   "metadata": {},
   "outputs": [
    {
     "data": {
      "text/plain": [
       "array([0, 0, 0, 0, 0, 0, 0, 0, 0, 0, 0, 0, 0, 0, 0, 0, 0, 0, 0, 0, 0, 0,\n",
       "       0, 0, 0, 0, 0, 0, 0, 0, 0, 0, 0, 0, 0, 0, 0, 0, 0, 0, 0, 0, 0, 0,\n",
       "       0, 0, 0, 0, 0, 0, 0, 0, 0, 0, 0, 0, 0, 0, 0, 0, 0, 0, 0, 0, 0, 0,\n",
       "       0, 0, 0, 0, 0, 0, 0, 0, 0, 0, 0, 0, 0, 0], dtype=int64)"
      ]
     },
     "execution_count": 26,
     "metadata": {},
     "output_type": "execute_result"
    }
   ],
   "source": [
    "logisticmodel.predict(X_test)"
   ]
  },
  {
   "cell_type": "markdown",
   "id": "62581f23",
   "metadata": {},
   "source": [
    "Let's save the prediction result into logistic_prediction. This is what the model predicted for us."
   ]
  },
  {
   "cell_type": "code",
   "execution_count": 27,
   "id": "fab8a092",
   "metadata": {},
   "outputs": [],
   "source": [
    "#Making prediction\n",
    "logistic_prediction = logisticmodel.predict(X_test)"
   ]
  },
  {
   "cell_type": "markdown",
   "id": "50b083bb",
   "metadata": {},
   "source": [
    "# 6. Model Evalution"
   ]
  },
  {
   "cell_type": "markdown",
   "id": "819795eb",
   "metadata": {},
   "source": [
    "Since we know the true label in the test set (i.e. y_test), we can compare this prediction with it, hence evaluate the logistic model. I have created a function that will help you visualize a confusion matrix for the logistic model and you can call on it henceforth to check the performance of any model."
   ]
  },
  {
   "cell_type": "markdown",
   "id": "e6805569",
   "metadata": {},
   "source": [
    "A confusion matrix is a table used in classification tasks to evaluate the performance of a machine learning model. \n",
    "- It allows us to visualize the performance of a classification algorithm by comparing the actual labels of the test data with the predicted labels produced by the model."
   ]
  },
  {
   "cell_type": "code",
   "execution_count": 28,
   "id": "d52f1546",
   "metadata": {},
   "outputs": [],
   "source": [
    "def ConfusionMatrix(ytest, ypred, label = [\"Negative\", \"Positive\"]):\n",
    "    \"A beautiful confusion matrix function to check the model performance\"\n",
    "    from sklearn.metrics import confusion_matrix\n",
    "    import seaborn as sns\n",
    "    confmat = confusion_matrix(ytest, ypred)\n",
    "    plt.figure(figsize=(7, 5))\n",
    "    sns.heatmap(confmat, annot = True, cbar = False, fmt = 'd', cmap = 'winter')\n",
    "    plt.xlabel('Predicted', fontsize = 13)\n",
    "    plt.xticks([0.5, 1.5], label)\n",
    "    plt.yticks([0.5, 1.5], label)\n",
    "    plt.ylabel('Truth', fontsize = 13)\n",
    "    plt.title('A confusion matrix');"
   ]
  },
  {
   "cell_type": "markdown",
   "id": "cf0af7e3",
   "metadata": {},
   "source": [
    "This Python function, ConfusionMatrix, generates a confusion matrix to evaluate the performance of a classification model. \n",
    "\n",
    "Let's break down each component and explain its purpose in details:\n",
    "\n",
    "**1. Function Definition:**\n",
    "    **def ConfusionMatrix(ytest, ypred, label = [\"Negative\", \"Positive\"]):**\n",
    "This codes defines a function named **ConfusionMatrix** that takes three arguments: **ytest (true labels)**, **ypred (predicted labels)**, and an **optional argument label** that specifies the labels for the classes in the **confusion matrix (default values are \"Negative\" and \"Positive\")**.\n",
    "\n",
    "**2. Function Documentation:** \"A beautiful confusion matrix function to check the model performance\"\n",
    "This is a docstring that provides a brief description of the function. It describes the purpose of the function, which is to generate a confusion matrix to evaluate the performance of a classification model.\n",
    "\n",
    "**3. Importing Libraries:**\n",
    "from sklearn.metrics import confusion_matrix\n",
    "import seaborn as sns\n",
    "This code imports the necessary libraries: confusion_matrix from scikit-learn and seaborn for visualization.\n",
    "\n",
    "**4. Calculating Confusion Matrix**\n",
    "confmat = confusion_matrix(ytest, ypred)\n",
    "This line computes the confusion matrix using the **true labels (ytest)** and the **predicted labels (ypred)** obtained from the classification model.\n",
    "\n",
    "**5. Plotting the Confusion Matrix:**\n",
    "        plt.figure(figsize=(7, 5))\n",
    "        sns.heatmap(confmat, annot = True, cbar = False, fmt = 'd', cmap = 'winter')\n",
    "        plt.xlabel('Predicted', fontsize = 13)\n",
    "        plt.xticks([0.5, 1.5], label)\n",
    "        plt.yticks([0.5, 1.5], label)\n",
    "        plt.ylabel('Truth', fontsize = 13)\n",
    "        plt.title('A confusion matrix');\n",
    "\n",
    "This block of code creates a heatmap visualization of the confusion matrix using seaborn.\n",
    "- The **heatmap displays** the counts of true positives, true negatives, false positives, and false negatives.\n",
    "- The **annot=True** argument adds the numerical values in the heatmap cells.\n",
    "- **cbar=False** removes the color bar.\n",
    "- **fmt='d'** formats the annotations as integers.\n",
    "- **cmap='winter'** sets the color map for the heatmap.\n",
    "- The **x-axis** and **y-axis** labels are set to **\"Predicted\"** and **\"Truth\"**, respectively.\n",
    "- The **tick labels** for the **x-axis** and **y-axis** are set using the specified label argument.\n",
    "- The title of the plot is set as **\"A confusion matrix\"**."
   ]
  },
  {
   "cell_type": "markdown",
   "id": "9be05cd9",
   "metadata": {},
   "source": [
    "By using the ConfusionMatrix() function, then we have:"
   ]
  },
  {
   "cell_type": "code",
   "execution_count": 29,
   "id": "1e276cb9",
   "metadata": {},
   "outputs": [
    {
     "data": {
      "image/png": "[encoded data removed]",
      "text/plain": [
       "<Figure size 700x500 with 1 Axes>"
      ]
     },
     "metadata": {},
     "output_type": "display_data"
    }
   ],
   "source": [
    "ConfusionMatrix(y_test, logistic_prediction, label = [\"not-purchased\", \"purchased\"])"
   ]
  },
  {
   "cell_type": "markdown",
   "id": "c7537e05",
   "metadata": {},
   "source": [
    "*Interpretation of the Logistics Regression model evaluation performance*"
   ]
  },
  {
   "cell_type": "markdown",
   "id": "65e351cc",
   "metadata": {},
   "source": [
    "There are 53 True Negatives (TN): predicting that the customer will not buy the insurance and truly the customer did not buy the insurance.\n",
    "There are 27 False Negative (FN): predicting that the customer will not buy the insurance and the customer actually bought the insurance.\n",
    "We can check the accuracy by using:"
   ]
  },
  {
   "cell_type": "code",
   "execution_count": 24,
   "id": "24f33768",
   "metadata": {},
   "outputs": [
    {
     "data": {
      "text/plain": [
       "0.6625"
      ]
     },
     "execution_count": 24,
     "metadata": {},
     "output_type": "execute_result"
    }
   ],
   "source": [
    "metrics.accuracy_score(y_test, logistic_prediction)"
   ]
  },
  {
   "cell_type": "markdown",
   "id": "1ee10586",
   "metadata": {},
   "source": [
    "The accuracy of the model is 66.25% ."
   ]
  },
  {
   "cell_type": "code",
   "execution_count": 25,
   "id": "e355ae61",
   "metadata": {},
   "outputs": [
    {
     "data": {
      "text/plain": [
       "0.0"
      ]
     },
     "execution_count": 25,
     "metadata": {},
     "output_type": "execute_result"
    }
   ],
   "source": [
    "metrics.f1_score(y_test, logistic_prediction)"
   ]
  },
  {
   "cell_type": "markdown",
   "id": "544a0d70",
   "metadata": {},
   "source": [
    "Let's try out other model\n",
    "Model Selection: is by evaluating different models, including more complex models or ensemble methods, to see if they can better capture the relationships in the data."
   ]
  },
  {
   "cell_type": "markdown",
   "id": "f3ac86e6",
   "metadata": {},
   "source": [
    "# Random Forest Model"
   ]
  },
  {
   "cell_type": "markdown",
   "id": "eb350ed2",
   "metadata": {},
   "source": [
    "Let's train a Random Forest model with our training data. We need to import the Random Forest model from the sklearn module"
   ]
  },
  {
   "cell_type": "code",
   "execution_count": 45,
   "id": "f9702f9e",
   "metadata": {},
   "outputs": [
    {
     "data": {
      "text/html": [
       "<style>#sk-container-id-3 {color: black;background-color: white;}#sk-container-id-3 pre{padding: 0;}#sk-container-id-3 div.sk-toggleable {background-color: white;}#sk-container-id-3 label.sk-toggleable__label {cursor: pointer;display: block;width: 100%;margin-bottom: 0;padding: 0.3em;box-sizing: border-box;text-align: center;}#sk-container-id-3 label.sk-toggleable__label-arrow:before {content: \"▸\";float: left;margin-right: 0.25em;color: #696969;}#sk-container-id-3 label.sk-toggleable__label-arrow:hover:before {color: black;}#sk-container-id-3 div.sk-estimator:hover label.sk-toggleable__label-arrow:before {color: black;}#sk-container-id-3 div.sk-toggleable__content {max-height: 0;max-width: 0;overflow: hidden;text-align: left;background-color: #f0f8ff;}#sk-container-id-3 div.sk-toggleable__content pre {margin: 0.2em;color: black;border-radius: 0.25em;background-color: #f0f8ff;}#sk-container-id-3 input.sk-toggleable__control:checked~div.sk-toggleable__content {max-height: 200px;max-width: 100%;overflow: auto;}#sk-container-id-3 input.sk-toggleable__control:checked~label.sk-toggleable__label-arrow:before {content: \"▾\";}#sk-container-id-3 div.sk-estimator input.sk-toggleable__control:checked~label.sk-toggleable__label {background-color: #d4ebff;}#sk-container-id-3 div.sk-label input.sk-toggleable__control:checked~label.sk-toggleable__label {background-color: #d4ebff;}#sk-container-id-3 input.sk-hidden--visually {border: 0;clip: rect(1px 1px 1px 1px);clip: rect(1px, 1px, 1px, 1px);height: 1px;margin: -1px;overflow: hidden;padding: 0;position: absolute;width: 1px;}#sk-container-id-3 div.sk-estimator {font-family: monospace;background-color: #f0f8ff;border: 1px dotted black;border-radius: 0.25em;box-sizing: border-box;margin-bottom: 0.5em;}#sk-container-id-3 div.sk-estimator:hover {background-color: #d4ebff;}#sk-container-id-3 div.sk-parallel-item::after {content: \"\";width: 100%;border-bottom: 1px solid gray;flex-grow: 1;}#sk-container-id-3 div.sk-label:hover label.sk-toggleable__label {background-color: #d4ebff;}#sk-container-id-3 div.sk-serial::before {content: \"\";position: absolute;border-left: 1px solid gray;box-sizing: border-box;top: 0;bottom: 0;left: 50%;z-index: 0;}#sk-container-id-3 div.sk-serial {display: flex;flex-direction: column;align-items: center;background-color: white;padding-right: 0.2em;padding-left: 0.2em;position: relative;}#sk-container-id-3 div.sk-item {position: relative;z-index: 1;}#sk-container-id-3 div.sk-parallel {display: flex;align-items: stretch;justify-content: center;background-color: white;position: relative;}#sk-container-id-3 div.sk-item::before, #sk-container-id-3 div.sk-parallel-item::before {content: \"\";position: absolute;border-left: 1px solid gray;box-sizing: border-box;top: 0;bottom: 0;left: 50%;z-index: -1;}#sk-container-id-3 div.sk-parallel-item {display: flex;flex-direction: column;z-index: 1;position: relative;background-color: white;}#sk-container-id-3 div.sk-parallel-item:first-child::after {align-self: flex-end;width: 50%;}#sk-container-id-3 div.sk-parallel-item:last-child::after {align-self: flex-start;width: 50%;}#sk-container-id-3 div.sk-parallel-item:only-child::after {width: 0;}#sk-container-id-3 div.sk-dashed-wrapped {border: 1px dashed gray;margin: 0 0.4em 0.5em 0.4em;box-sizing: border-box;padding-bottom: 0.4em;background-color: white;}#sk-container-id-3 div.sk-label label {font-family: monospace;font-weight: bold;display: inline-block;line-height: 1.2em;}#sk-container-id-3 div.sk-label-container {text-align: center;}#sk-container-id-3 div.sk-container {/* jupyter's `normalize.less` sets `[hidden] { display: none; }` but bootstrap.min.css set `[hidden] { display: none !important; }` so we also need the `!important` here to be able to override the default hidden behavior on the sphinx rendered scikit-learn.org. See: https://github.com/scikit-learn/scikit-learn/issues/21755 */display: inline-block !important;position: relative;}#sk-container-id-3 div.sk-text-repr-fallback {display: none;}</style><div id=\"sk-container-id-3\" class=\"sk-top-container\"><div class=\"sk-text-repr-fallback\"><pre>RandomForestClassifier()</pre><b>In a Jupyter environment, please rerun this cell to show the HTML representation or trust the notebook. <br />On GitHub, the HTML representation is unable to render, please try loading this page with nbviewer.org.</b></div><div class=\"sk-container\" hidden><div class=\"sk-item\"><div class=\"sk-estimator sk-toggleable\"><input class=\"sk-toggleable__control sk-hidden--visually\" id=\"sk-estimator-id-3\" type=\"checkbox\" checked><label for=\"sk-estimator-id-3\" class=\"sk-toggleable__label sk-toggleable__label-arrow\">RandomForestClassifier</label><div class=\"sk-toggleable__content\"><pre>RandomForestClassifier()</pre></div></div></div></div></div>"
      ],
      "text/plain": [
       "RandomForestClassifier()"
      ]
     },
     "execution_count": 45,
     "metadata": {},
     "output_type": "execute_result"
    }
   ],
   "source": [
    "from sklearn.ensemble import RandomForestClassifier\n",
    "#Create Random Forest Model\n",
    "randomforestmodel = RandomForestClassifier()\n",
    "#Train model\n",
    "randomforestmodel.fit(X_train, y_train)\n",
    "RandomForestClassifier()"
   ]
  },
  {
   "cell_type": "markdown",
   "id": "bd158892",
   "metadata": {},
   "source": [
    "randomforestmodel.fit() trained the Random Forest model on the training data. The model is now ready to make predictions for the unknown label by using only the features from the test data (X_test)."
   ]
  },
  {
   "cell_type": "code",
   "execution_count": 45,
   "id": "4e91b8b9",
   "metadata": {},
   "outputs": [],
   "source": [
    "randomforestmodel_prediction = randomforestmodel.predict(X_test)"
   ]
  },
  {
   "cell_type": "markdown",
   "id": "4718f5f9",
   "metadata": {},
   "source": [
    "Let's call the randomforestmodel_prediction method to see the prediction."
   ]
  },
  {
   "cell_type": "code",
   "execution_count": 46,
   "id": "3dba2e02",
   "metadata": {},
   "outputs": [
    {
     "data": {
      "text/plain": [
       "array([0, 0, 0, 0, 1, 1, 0, 1, 1, 0, 1, 0, 1, 0, 0, 1, 0, 1, 1, 1, 0, 1,\n",
       "       1, 0, 0, 1, 0, 1, 0, 1, 0, 1, 0, 0, 1, 0, 0, 1, 0, 1, 1, 0, 0, 0,\n",
       "       1, 0, 0, 1, 1, 0, 1, 0, 0, 1, 0, 0, 0, 1, 1, 0, 1, 0, 1, 0, 0, 1,\n",
       "       0, 0, 0, 1, 0, 0, 0, 0, 0, 1, 0, 0, 0, 0], dtype=int64)"
      ]
     },
     "execution_count": 46,
     "metadata": {},
     "output_type": "execute_result"
    }
   ],
   "source": [
    "randomforestmodel_prediction"
   ]
  },
  {
   "cell_type": "markdown",
   "id": "4962deb9",
   "metadata": {},
   "source": [
    "By using the ConfusionMatrix() function, we can see how the model performed\n"
   ]
  },
  {
   "cell_type": "code",
   "execution_count": 47,
   "id": "4a42e9d8",
   "metadata": {},
   "outputs": [
    {
     "data": {
      "image/png": "[encoded data removed]",
      "text/plain": [
       "<Figure size 700x500 with 1 Axes>"
      ]
     },
     "metadata": {},
     "output_type": "display_data"
    }
   ],
   "source": [
    "ConfusionMatrix(y_test, randomforestmodel_prediction, label = [\"not-purchased\", \"purchased\"])"
   ]
  },
  {
   "cell_type": "markdown",
   "id": "cf690e42",
   "metadata": {},
   "source": [
    "__Interpretation of the Random Forest model evaluation performance__"
   ]
  },
  {
   "cell_type": "markdown",
   "id": "de7dba25",
   "metadata": {},
   "source": [
    "- There are 44 True Negatives (TN): predicting that the customer will not buy the insurance and truly the customer did not buy the insurance.\n",
    "- There are 23 True Positives (TP): predicting that the customer will buy the insurance and truly the customer did buy the insurance.\n",
    "- There are 4 False Negatives (FN): predicting that the customer will not buy the insurance and the customer actually bought the insurance.\n",
    "- There are 9 False Positives (FN): predicting that the customer will buy the insurance and the customer did not buy the insurance."
   ]
  },
  {
   "cell_type": "markdown",
   "id": "ac6efd0e",
   "metadata": {},
   "source": [
    "**<h4>Evaluation metrics for random forest</h4>**"
   ]
  },
  {
   "cell_type": "markdown",
   "id": "f94d6cb1",
   "metadata": {},
   "source": [
    "We are going to check the accuracy and F1 score of the model."
   ]
  },
  {
   "cell_type": "markdown",
   "id": "0f9b47aa",
   "metadata": {},
   "source": [
    "We can check the accuracy by using:"
   ]
  },
  {
   "cell_type": "code",
   "execution_count": 48,
   "id": "7a1e39a0",
   "metadata": {},
   "outputs": [
    {
     "data": {
      "text/plain": [
       "0.8375"
      ]
     },
     "execution_count": 48,
     "metadata": {},
     "output_type": "execute_result"
    }
   ],
   "source": [
    "metrics.accuracy_score(y_test, randomforestmodel_prediction)"
   ]
  },
  {
   "cell_type": "markdown",
   "id": "46f91bb6",
   "metadata": {},
   "source": [
    "The accuracy of the model is 84%\n",
    "\n",
    "We can check the F1 score by using:"
   ]
  },
  {
   "cell_type": "markdown",
   "id": "65722c01",
   "metadata": {},
   "source": [
    "The F1 score of the model is 77.97%\n",
    "\n",
    "As you can see, this model seems good in predicting whether a patient will buy insurance or not."
   ]
  },
  {
   "cell_type": "markdown",
   "id": "febc75bc",
   "metadata": {},
   "source": [
    "# DECISION TREE"
   ]
  },
  {
   "cell_type": "code",
   "execution_count": 69,
   "id": "dcb926cf",
   "metadata": {},
   "outputs": [
    {
     "data": {
      "text/html": [
       "<style>#sk-container-id-6 {color: black;background-color: white;}#sk-container-id-6 pre{padding: 0;}#sk-container-id-6 div.sk-toggleable {background-color: white;}#sk-container-id-6 label.sk-toggleable__label {cursor: pointer;display: block;width: 100%;margin-bottom: 0;padding: 0.3em;box-sizing: border-box;text-align: center;}#sk-container-id-6 label.sk-toggleable__label-arrow:before {content: \"▸\";float: left;margin-right: 0.25em;color: #696969;}#sk-container-id-6 label.sk-toggleable__label-arrow:hover:before {color: black;}#sk-container-id-6 div.sk-estimator:hover label.sk-toggleable__label-arrow:before {color: black;}#sk-container-id-6 div.sk-toggleable__content {max-height: 0;max-width: 0;overflow: hidden;text-align: left;background-color: #f0f8ff;}#sk-container-id-6 div.sk-toggleable__content pre {margin: 0.2em;color: black;border-radius: 0.25em;background-color: #f0f8ff;}#sk-container-id-6 input.sk-toggleable__control:checked~div.sk-toggleable__content {max-height: 200px;max-width: 100%;overflow: auto;}#sk-container-id-6 input.sk-toggleable__control:checked~label.sk-toggleable__label-arrow:before {content: \"▾\";}#sk-container-id-6 div.sk-estimator input.sk-toggleable__control:checked~label.sk-toggleable__label {background-color: #d4ebff;}#sk-container-id-6 div.sk-label input.sk-toggleable__control:checked~label.sk-toggleable__label {background-color: #d4ebff;}#sk-container-id-6 input.sk-hidden--visually {border: 0;clip: rect(1px 1px 1px 1px);clip: rect(1px, 1px, 1px, 1px);height: 1px;margin: -1px;overflow: hidden;padding: 0;position: absolute;width: 1px;}#sk-container-id-6 div.sk-estimator {font-family: monospace;background-color: #f0f8ff;border: 1px dotted black;border-radius: 0.25em;box-sizing: border-box;margin-bottom: 0.5em;}#sk-container-id-6 div.sk-estimator:hover {background-color: #d4ebff;}#sk-container-id-6 div.sk-parallel-item::after {content: \"\";width: 100%;border-bottom: 1px solid gray;flex-grow: 1;}#sk-container-id-6 div.sk-label:hover label.sk-toggleable__label {background-color: #d4ebff;}#sk-container-id-6 div.sk-serial::before {content: \"\";position: absolute;border-left: 1px solid gray;box-sizing: border-box;top: 0;bottom: 0;left: 50%;z-index: 0;}#sk-container-id-6 div.sk-serial {display: flex;flex-direction: column;align-items: center;background-color: white;padding-right: 0.2em;padding-left: 0.2em;position: relative;}#sk-container-id-6 div.sk-item {position: relative;z-index: 1;}#sk-container-id-6 div.sk-parallel {display: flex;align-items: stretch;justify-content: center;background-color: white;position: relative;}#sk-container-id-6 div.sk-item::before, #sk-container-id-6 div.sk-parallel-item::before {content: \"\";position: absolute;border-left: 1px solid gray;box-sizing: border-box;top: 0;bottom: 0;left: 50%;z-index: -1;}#sk-container-id-6 div.sk-parallel-item {display: flex;flex-direction: column;z-index: 1;position: relative;background-color: white;}#sk-container-id-6 div.sk-parallel-item:first-child::after {align-self: flex-end;width: 50%;}#sk-container-id-6 div.sk-parallel-item:last-child::after {align-self: flex-start;width: 50%;}#sk-container-id-6 div.sk-parallel-item:only-child::after {width: 0;}#sk-container-id-6 div.sk-dashed-wrapped {border: 1px dashed gray;margin: 0 0.4em 0.5em 0.4em;box-sizing: border-box;padding-bottom: 0.4em;background-color: white;}#sk-container-id-6 div.sk-label label {font-family: monospace;font-weight: bold;display: inline-block;line-height: 1.2em;}#sk-container-id-6 div.sk-label-container {text-align: center;}#sk-container-id-6 div.sk-container {/* jupyter's `normalize.less` sets `[hidden] { display: none; }` but bootstrap.min.css set `[hidden] { display: none !important; }` so we also need the `!important` here to be able to override the default hidden behavior on the sphinx rendered scikit-learn.org. See: https://github.com/scikit-learn/scikit-learn/issues/21755 */display: inline-block !important;position: relative;}#sk-container-id-6 div.sk-text-repr-fallback {display: none;}</style><div id=\"sk-container-id-6\" class=\"sk-top-container\"><div class=\"sk-text-repr-fallback\"><pre>DecisionTreeClassifier()</pre><b>In a Jupyter environment, please rerun this cell to show the HTML representation or trust the notebook. <br />On GitHub, the HTML representation is unable to render, please try loading this page with nbviewer.org.</b></div><div class=\"sk-container\" hidden><div class=\"sk-item\"><div class=\"sk-estimator sk-toggleable\"><input class=\"sk-toggleable__control sk-hidden--visually\" id=\"sk-estimator-id-6\" type=\"checkbox\" checked><label for=\"sk-estimator-id-6\" class=\"sk-toggleable__label sk-toggleable__label-arrow\">DecisionTreeClassifier</label><div class=\"sk-toggleable__content\"><pre>DecisionTreeClassifier()</pre></div></div></div></div></div>"
      ],
      "text/plain": [
       "DecisionTreeClassifier()"
      ]
     },
     "execution_count": 69,
     "metadata": {},
     "output_type": "execute_result"
    }
   ],
   "source": [
    "from sklearn.tree import DecisionTreeClassifier\n",
    "\n",
    "# Create a Decision Tree model\n",
    "decision_tree_model = DecisionTreeClassifier()\n",
    "\n",
    "# Train the Decision Tree model\n",
    "decision_tree_model.fit(X_train, y_train)\n"
   ]
  },
  {
   "cell_type": "code",
   "execution_count": 71,
   "id": "36ecb946",
   "metadata": {},
   "outputs": [],
   "source": [
    "decision_tree_model_prediction = decision_tree_model.predict(X_test)\n"
   ]
  },
  {
   "cell_type": "code",
   "execution_count": 72,
   "id": "87ed00ff",
   "metadata": {},
   "outputs": [
    {
     "data": {
      "text/plain": [
       "array([0, 0, 0, 0, 1, 1, 0, 1, 1, 0, 1, 0, 0, 1, 0, 1, 0, 0, 1, 1, 1, 0,\n",
       "       1, 0, 0, 1, 0, 1, 0, 1, 0, 1, 0, 0, 1, 0, 0, 0, 0, 1, 1, 0, 0, 0,\n",
       "       1, 0, 0, 1, 1, 0, 1, 0, 1, 1, 1, 0, 0, 1, 1, 0, 1, 0, 1, 0, 0, 1,\n",
       "       1, 0, 0, 1, 0, 0, 0, 0, 0, 1, 0, 0, 0, 0], dtype=int64)"
      ]
     },
     "execution_count": 72,
     "metadata": {},
     "output_type": "execute_result"
    }
   ],
   "source": [
    "decision_tree_model_prediction"
   ]
  },
  {
   "cell_type": "code",
   "execution_count": 73,
   "id": "0c3b251e",
   "metadata": {},
   "outputs": [
    {
     "data": {
      "image/png": "[encoded data removed]",
      "text/plain": [
       "<Figure size 700x500 with 1 Axes>"
      ]
     },
     "metadata": {},
     "output_type": "display_data"
    }
   ],
   "source": [
    "ConfusionMatrix(y_test, decision_tree_model_prediction, label = [\"not-purchased\", \"purchased\"])"
   ]
  },
  {
   "cell_type": "markdown",
   "id": "5ad37468",
   "metadata": {},
   "source": [
    "__Interpretation of the Decision Tree model evaluation performance__\n",
    "\n",
    "There are 44 True Negatives (TN): predicting that the customer will not buy the insurance and truly the customer did not buy the insurance.\n",
    "There are 24 True Positives (TP): predicting that the customer will buy the insurance and truly the customer did buy the insurance.\n",
    "There are 3 False Negatives (FN): predicting that the customer will not buy the insurance and the customer actually bought the insurance.\n",
    "There are 9 False Positives (FN): predicting that the customer will buy the insurance and the customer did not buy the insurance."
   ]
  },
  {
   "cell_type": "markdown",
   "id": "4db2782a",
   "metadata": {},
   "source": [
    " **<h3> Evaluation metrics for decision tree</h3>**"
   ]
  },
  {
   "cell_type": "markdown",
   "id": "c86e7ac8",
   "metadata": {},
   "source": [
    "So let's check the accuracy and F1 score of the model.\n",
    "\n",
    "\n",
    "We can check the accuracy by using:"
   ]
  },
  {
   "cell_type": "code",
   "execution_count": 74,
   "id": "92b0c03c",
   "metadata": {},
   "outputs": [
    {
     "data": {
      "text/plain": [
       "0.85"
      ]
     },
     "execution_count": 74,
     "metadata": {},
     "output_type": "execute_result"
    }
   ],
   "source": [
    "metrics.accuracy_score(y_test, decision_tree_model_prediction)"
   ]
  },
  {
   "cell_type": "markdown",
   "id": "55b95acc",
   "metadata": {},
   "source": [
    "The accuracy of the model is 85%\n",
    "\n",
    "We can also check the F1 score by using:"
   ]
  },
  {
   "cell_type": "code",
   "execution_count": 75,
   "id": "19cf8589",
   "metadata": {},
   "outputs": [
    {
     "data": {
      "text/plain": [
       "0.7999999999999999"
      ]
     },
     "execution_count": 75,
     "metadata": {},
     "output_type": "execute_result"
    }
   ],
   "source": [
    "metrics.f1_score(y_test, decision_tree_model_prediction)"
   ]
  },
  {
   "cell_type": "markdown",
   "id": "e7abd6ac",
   "metadata": {},
   "source": [
    "The F1 score of the model is 79%\n",
    "\n",
    "As you can see, this model seems good in predicting whether a patient will buy insurance or not."
   ]
  },
  {
   "cell_type": "markdown",
   "id": "60c821ab",
   "metadata": {},
   "source": [
    "Model Summary"
   ]
  },
  {
   "cell_type": "code",
   "execution_count": 77,
   "id": "a898254e",
   "metadata": {},
   "outputs": [],
   "source": [
    "# >>>>>>>>>>>>>>>>>>>>>>>>>> MODEL(S) | ACCURACY | F1-SCORE |<<<<<<<<<<<<<<<<<<<<<<<\n",
    "#**************************Logistic regression| 66.25 | 0 |**********************\n",
    "#--------------------------Random Forest | 84 | 77.97| **************************\n",
    "#--------------------------DECISION TREE | 85 | 79.9|-----------------------------"
   ]
  },
  {
   "cell_type": "markdown",
   "id": "02316827",
   "metadata": {},
   "source": [
    "Having train all the four (4) models, we can see that the best model that can accurately predict whether a Patient will buy health insurance or not is the Decision Tree and Random Forest Model, where there **Accuracy** gives an overall measure of correctness in prediction and F1-score, where the **F1-score** provides a concise summary of a model's ability to make accurate positive predictions while minimizing false positives and false negatives."
   ]
  },
  {
   "cell_type": "markdown",
   "id": "6563998d",
   "metadata": {},
   "source": [
    "Click on the 'green text' below and run the code for SVM"
   ]
  },
  {
   "cell_type": "markdown",
   "id": "fcc3373a",
   "metadata": {},
   "source": [
    "\n",
    "<details>\n",
    "    <summary>Click <font color=\"green\"><b>this text</b></font> to hide/unhide the hint!</summary>\n",
    "SOLUTION: Support Vector Machine (SVM)\n",
    "#Let's train a Support Vector Machine model with our training data. \n",
    "    We need to import the Support Vector Machine model from the sklearn module\n",
    "\n",
    "from sklearn.svm import SVC\n",
    "\n",
    "SVMmodel = SVC()\n",
    "\n",
    "SVMmodel.fit(X_train, y_train)\n",
    "\n",
    "#SVMmodel.fit() trained the Support Vector Machine on the training data. The model is now ready to make predictions for the unknown label by using only the features from the test data (X_test).\n",
    "SVMmodel_prediction = SVMmodel.predict(X_test)\n",
    "\n",
    "#You can call on SVMmodel_prediction to see what has been predicted.\n",
    "SVMmodel_prediction\n",
    "\n",
    "#By using the ConfusionMatrix() function, we can see how the model performed:\n",
    "ConfusionMatrix(y_test, SVMmodel_prediction, label = [\"not-purchased\", \"purchased\"])\n",
    "\n",
    "\n",
    "**Output Interpretation of the Support Vector model evaluation performance**\n",
    "\n",
    "There are 50 True Negatives (TN): predicting that the customer will not buy the insurance and truly the customer did not buy the insurance.\n",
    "There are 14 True Positives (TP): predicting that the customer will buy the insurance and truly the customer did buy the insurance.\n",
    "There are 13 False Negatives (FN): predicting that the customer will not buy the insurance and the customer actually bought the insurance.\n",
    "There are 3 False Positives (FN): predicting that the customer will buy the insurance and the customer did not buy the insurance.\n",
    "    \n",
    "    \n",
    "#Evaluation metrics for SVM\n",
    "So let's check the accuracy and F1 score of the model.\n",
    "\n",
    "#We can check the accuracy by using:\n",
    "metrics.accuracy_score(y_test, SVMmodel_prediction)\n",
    "\n",
    "#The accuracy of the model is 80%\n",
    "\n",
    "#We can also check the F1 score by using:\n",
    "\n",
    "metrics.f1_score(y_test, SVMmodel_prediction)\n",
    "\n",
    "#Further reading: https://scikit-learn.org/stable/supervised_learning.html#supervised-learning\n",
    "\n",
    "</details>"
   ]
  },
  {
   "cell_type": "markdown",
   "id": "860bab96",
   "metadata": {},
   "source": [
    "further reading: https://scikit-learn.org/stable/index.html"
   ]
  },
  {
   "cell_type": "code",
   "execution_count": null,
   "id": "afb1333a",
   "metadata": {},
   "outputs": [],
   "source": [
    "\n"
   ]
  },
  {
   "cell_type": "code",
   "execution_count": null,
   "id": "781bfe39",
   "metadata": {},
   "outputs": [],
   "source": []
  }
 ],
 "metadata": {
  "kernelspec": {
   "display_name": "Python 3 (ipykernel)",
   "language": "python",
   "name": "python3"
  },
  "language_info": {
   "codemirror_mode": {
    "name": "ipython",
    "version": 3
   },
   "file_extension": ".py",
   "mimetype": "text/x-python",
   "name": "python",
   "nbconvert_exporter": "python",
   "pygments_lexer": "ipython3",
   "version": "3.10.9"
  }
 },
 "nbformat": 4,
 "nbformat_minor": 5
}
